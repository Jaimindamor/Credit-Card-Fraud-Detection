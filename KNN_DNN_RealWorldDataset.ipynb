{
  "cells": [
    {
      "cell_type": "code",
      "source": [
        "pip install imblearn --q"
      ],
      "metadata": {
        "id": "VU0kEJ3mk30_"
      },
      "execution_count": null,
      "outputs": []
    },
    {
      "cell_type": "code",
      "source": [
        "pip install tensorflow --q"
      ],
      "metadata": {
        "colab": {
          "base_uri": "https://localhost:8080/"
        },
        "id": "xG85Wliwk-me",
        "outputId": "015eb090-9d75-4747-df6a-ff8e901112ab"
      },
      "execution_count": null,
      "outputs": [
        {
          "output_type": "stream",
          "name": "stdout",
          "text": [
            "\u001b[2K   \u001b[90m━━━━━━━━━━━━━━━━━━━━━━━━━━━━━━━━━━━━━━━━\u001b[0m \u001b[32m644.9/644.9 MB\u001b[0m \u001b[31m574.2 kB/s\u001b[0m eta \u001b[36m0:00:00\u001b[0m\n",
            "\u001b[2K   \u001b[90m━━━━━━━━━━━━━━━━━━━━━━━━━━━━━━━━━━━━━━━━\u001b[0m \u001b[32m57.5/57.5 kB\u001b[0m \u001b[31m4.8 MB/s\u001b[0m eta \u001b[36m0:00:00\u001b[0m\n",
            "\u001b[2K   \u001b[90m━━━━━━━━━━━━━━━━━━━━━━━━━━━━━━━━━━━━━━━━\u001b[0m \u001b[32m24.5/24.5 MB\u001b[0m \u001b[31m71.6 MB/s\u001b[0m eta \u001b[36m0:00:00\u001b[0m\n",
            "\u001b[2K   \u001b[90m━━━━━━━━━━━━━━━━━━━━━━━━━━━━━━━━━━━━━━━━\u001b[0m \u001b[32m5.5/5.5 MB\u001b[0m \u001b[31m104.3 MB/s\u001b[0m eta \u001b[36m0:00:00\u001b[0m\n",
            "\u001b[2K   \u001b[90m━━━━━━━━━━━━━━━━━━━━━━━━━━━━━━━━━━━━━━━━\u001b[0m \u001b[32m5.1/5.1 MB\u001b[0m \u001b[31m92.3 MB/s\u001b[0m eta \u001b[36m0:00:00\u001b[0m\n",
            "\u001b[2K   \u001b[90m━━━━━━━━━━━━━━━━━━━━━━━━━━━━━━━━━━━━━━━━\u001b[0m \u001b[32m6.6/6.6 MB\u001b[0m \u001b[31m104.7 MB/s\u001b[0m eta \u001b[36m0:00:00\u001b[0m\n",
            "\u001b[2K   \u001b[90m━━━━━━━━━━━━━━━━━━━━━━━━━━━━━━━━━━━━━━━━\u001b[0m \u001b[32m224.5/224.5 kB\u001b[0m \u001b[31m15.3 MB/s\u001b[0m eta \u001b[36m0:00:00\u001b[0m\n",
            "\u001b[2K   \u001b[90m━━━━━━━━━━━━━━━━━━━━━━━━━━━━━━━━━━━━━━━━\u001b[0m \u001b[32m72.5/72.5 kB\u001b[0m \u001b[31m6.1 MB/s\u001b[0m eta \u001b[36m0:00:00\u001b[0m\n",
            "\u001b[?25h"
          ]
        }
      ]
    },
    {
      "cell_type": "code",
      "source": [
        "pip install keras --q"
      ],
      "metadata": {
        "id": "KX_7AvmTAE6Y"
      },
      "execution_count": null,
      "outputs": []
    },
    {
      "cell_type": "code",
      "execution_count": null,
      "metadata": {
        "id": "xJOGp3xxVv1X"
      },
      "outputs": [],
      "source": [
        "import numpy as np\n",
        "import pandas as pd\n",
        "from sklearn.model_selection import train_test_split\n",
        "from sklearn.preprocessing import StandardScaler\n",
        "from sklearn.neighbors import KNeighborsClassifier\n",
        "from sklearn.metrics import classification_report, confusion_matrix, roc_curve, auc\n",
        "from imblearn.under_sampling import EditedNearestNeighbours\n",
        "from tensorflow.keras.models import Sequential\n",
        "from tensorflow.keras.layers import Dense, Dropout"
      ]
    },
    {
      "cell_type": "code",
      "execution_count": null,
      "metadata": {
        "colab": {
          "base_uri": "https://localhost:8080/"
        },
        "id": "1zFq5KKcHAr_",
        "outputId": "51f377ab-ce25-4187-a8ee-6610d80cc592"
      },
      "outputs": [
        {
          "output_type": "stream",
          "name": "stdout",
          "text": [
            "Drive already mounted at /content/drive; to attempt to forcibly remount, call drive.mount(\"/content/drive\", force_remount=True).\n"
          ]
        }
      ],
      "source": [
        "from google.colab import drive\n",
        "drive.mount('/content/drive')"
      ]
    },
    {
      "cell_type": "code",
      "execution_count": null,
      "metadata": {
        "colab": {
          "base_uri": "https://localhost:8080/"
        },
        "id": "OaWBZ1buV5oR",
        "outputId": "62779772-d042-4e85-b764-571265e59d57"
      },
      "outputs": [
        {
          "output_type": "stream",
          "name": "stdout",
          "text": [
            "   Unnamed: 0 trans_date_trans_time            cc_num  \\\n",
            "0           0   2019-01-01 00:00:18  2703186189652095   \n",
            "1           1   2019-01-01 00:00:44      630423337322   \n",
            "2           2   2019-01-01 00:00:51    38859492057661   \n",
            "3           3   2019-01-01 00:01:16  3534093764340240   \n",
            "4           4   2019-01-01 00:03:06   375534208663984   \n",
            "\n",
            "                             merchant       category     amt      first  \\\n",
            "0          fraud_Rippin, Kub and Mann       misc_net    4.97   Jennifer   \n",
            "1     fraud_Heller, Gutmann and Zieme    grocery_pos  107.23  Stephanie   \n",
            "2                fraud_Lind-Buckridge  entertainment  220.11     Edward   \n",
            "3  fraud_Kutch, Hermiston and Farrell  gas_transport   45.00     Jeremy   \n",
            "4                 fraud_Keeling-Crist       misc_pos   41.96      Tyler   \n",
            "\n",
            "      last gender                        street  ...      long city_pop  \\\n",
            "0    Banks      F                561 Perry Cove  ...  -81.1781     3495   \n",
            "1     Gill      F  43039 Riley Greens Suite 393  ... -118.2105      149   \n",
            "2  Sanchez      M      594 White Dale Suite 530  ... -112.2620     4154   \n",
            "3    White      M   9443 Cynthia Court Apt. 038  ... -112.1138     1939   \n",
            "4   Garcia      M              408 Bradley Rest  ...  -79.4629       99   \n",
            "\n",
            "                                 job         dob  \\\n",
            "0          Psychologist, counselling  1988-03-09   \n",
            "1  Special educational needs teacher  1978-06-21   \n",
            "2        Nature conservation officer  1962-01-19   \n",
            "3                    Patent attorney  1967-01-12   \n",
            "4     Dance movement psychotherapist  1986-03-28   \n",
            "\n",
            "                          trans_num   unix_time  merch_lat  merch_long  \\\n",
            "0  0b242abb623afc578575680df30655b9  1325376018  36.011293  -82.048315   \n",
            "1  1f76529f8574734946361c461b024d99  1325376044  49.159047 -118.186462   \n",
            "2  a1a22d70485983eac12b5b88dad1cf95  1325376051  43.150704 -112.154481   \n",
            "3  6b849c168bdad6f867558c3793159a81  1325376076  47.034331 -112.561071   \n",
            "4  a41d7549acf90789359a9aa5346dcb46  1325376186  38.674999  -78.632459   \n",
            "\n",
            "  is_fraud  merch_zipcode  \n",
            "0        0        28705.0  \n",
            "1        0            NaN  \n",
            "2        0        83236.0  \n",
            "3        0            NaN  \n",
            "4        0        22844.0  \n",
            "\n",
            "[5 rows x 24 columns]\n"
          ]
        }
      ],
      "source": [
        "# Set the path to your file (adjust the path based on your Drive structure)\n",
        "file_path = \"/content/drive/My Drive/credit_card_transactions.csv\"\n",
        "\n",
        "# Read the CSV file\n",
        "data = pd.read_csv(file_path)\n",
        "\n",
        "# Display first few rows\n",
        "print(data.head())\n"
      ]
    },
    {
      "cell_type": "code",
      "execution_count": null,
      "metadata": {
        "colab": {
          "base_uri": "https://localhost:8080/"
        },
        "id": "Hkbh75afztWF",
        "outputId": "c433c6f2-f960-4fc6-ec7b-52df8ec48f99"
      },
      "outputs": [
        {
          "output_type": "execute_result",
          "data": {
            "text/plain": [
              "(1296675, 24)"
            ]
          },
          "metadata": {},
          "execution_count": 4
        }
      ],
      "source": [
        "data.shape"
      ]
    },
    {
      "cell_type": "code",
      "execution_count": null,
      "metadata": {
        "id": "SItjUMdoWBMt"
      },
      "outputs": [],
      "source": [
        "data.drop(columns=['Unnamed: 0','first', 'last', 'street', 'dob', 'trans_num'], inplace=True)"
      ]
    },
    {
      "cell_type": "code",
      "execution_count": null,
      "metadata": {
        "colab": {
          "base_uri": "https://localhost:8080/"
        },
        "id": "sI3grkNNbqJD",
        "outputId": "d5ee8477-1edf-4e30-ba3e-82683d545c10"
      },
      "outputs": [
        {
          "output_type": "execute_result",
          "data": {
            "text/plain": [
              "(1296675, 18)"
            ]
          },
          "metadata": {},
          "execution_count": 6
        }
      ],
      "source": [
        "data.shape"
      ]
    },
    {
      "cell_type": "code",
      "execution_count": null,
      "metadata": {
        "colab": {
          "base_uri": "https://localhost:8080/"
        },
        "id": "wXIhRnIWWPzW",
        "outputId": "a389eff8-de96-4043-ce81-1041b8dbcd51"
      },
      "outputs": [
        {
          "output_type": "stream",
          "name": "stdout",
          "text": [
            "trans_date_trans_time         0\n",
            "cc_num                        0\n",
            "merchant                      0\n",
            "category                      0\n",
            "amt                           0\n",
            "gender                        0\n",
            "city                          0\n",
            "state                         0\n",
            "zip                           0\n",
            "lat                           0\n",
            "long                          0\n",
            "city_pop                      0\n",
            "job                           0\n",
            "unix_time                     0\n",
            "merch_lat                     0\n",
            "merch_long                    0\n",
            "is_fraud                      0\n",
            "merch_zipcode            195973\n",
            "dtype: int64\n"
          ]
        }
      ],
      "source": [
        "\n",
        "print(data.isnull().sum())"
      ]
    },
    {
      "cell_type": "code",
      "execution_count": null,
      "metadata": {
        "colab": {
          "base_uri": "https://localhost:8080/"
        },
        "id": "rgVnuiM2Ol8T",
        "outputId": "7e316a81-1480-4a63-fc8f-e0ef5632d429"
      },
      "outputs": [
        {
          "output_type": "stream",
          "name": "stdout",
          "text": [
            "trans_date_trans_time     object\n",
            "cc_num                     int64\n",
            "merchant                  object\n",
            "category                  object\n",
            "amt                      float64\n",
            "gender                    object\n",
            "city                      object\n",
            "state                     object\n",
            "zip                        int64\n",
            "lat                      float64\n",
            "long                     float64\n",
            "city_pop                   int64\n",
            "job                       object\n",
            "unix_time                  int64\n",
            "merch_lat                float64\n",
            "merch_long               float64\n",
            "is_fraud                   int64\n",
            "merch_zipcode            float64\n",
            "dtype: object\n"
          ]
        }
      ],
      "source": [
        "print(data.dtypes)\n"
      ]
    },
    {
      "cell_type": "code",
      "execution_count": null,
      "metadata": {
        "id": "EovMguUs2PId"
      },
      "outputs": [],
      "source": [
        "from sklearn.preprocessing import LabelEncoder\n"
      ]
    },
    {
      "cell_type": "code",
      "execution_count": null,
      "metadata": {
        "id": "kNHGZc4XWZ-b"
      },
      "outputs": [],
      "source": [
        "# Encode categorical columns (e.g., merchant, category, state, job)\n",
        "cat_cols = ['merchant', 'category', 'state', 'job']\n",
        "for col in cat_cols:\n",
        "    data[col] = LabelEncoder().fit_transform(data[col])\n"
      ]
    },
    {
      "cell_type": "markdown",
      "metadata": {
        "id": "6GWNTEBVW8H2"
      },
      "source": [
        "Main method for merch_zipcode"
      ]
    },
    {
      "cell_type": "code",
      "source": [
        "data.isnull().sum()"
      ],
      "metadata": {
        "colab": {
          "base_uri": "https://localhost:8080/",
          "height": 648
        },
        "id": "9XnhxNwsbQv8",
        "outputId": "b11e6cb9-53d0-45fc-db11-57ed6fc962d6"
      },
      "execution_count": null,
      "outputs": [
        {
          "output_type": "execute_result",
          "data": {
            "text/plain": [
              "trans_date_trans_time         0\n",
              "cc_num                        0\n",
              "merchant                      0\n",
              "category                      0\n",
              "amt                           0\n",
              "gender                        0\n",
              "city                          0\n",
              "state                         0\n",
              "zip                           0\n",
              "lat                           0\n",
              "long                          0\n",
              "city_pop                      0\n",
              "job                           0\n",
              "unix_time                     0\n",
              "merch_lat                     0\n",
              "merch_long                    0\n",
              "is_fraud                      0\n",
              "merch_zipcode            195973\n",
              "dtype: int64"
            ],
            "text/html": [
              "<div>\n",
              "<style scoped>\n",
              "    .dataframe tbody tr th:only-of-type {\n",
              "        vertical-align: middle;\n",
              "    }\n",
              "\n",
              "    .dataframe tbody tr th {\n",
              "        vertical-align: top;\n",
              "    }\n",
              "\n",
              "    .dataframe thead th {\n",
              "        text-align: right;\n",
              "    }\n",
              "</style>\n",
              "<table border=\"1\" class=\"dataframe\">\n",
              "  <thead>\n",
              "    <tr style=\"text-align: right;\">\n",
              "      <th></th>\n",
              "      <th>0</th>\n",
              "    </tr>\n",
              "  </thead>\n",
              "  <tbody>\n",
              "    <tr>\n",
              "      <th>trans_date_trans_time</th>\n",
              "      <td>0</td>\n",
              "    </tr>\n",
              "    <tr>\n",
              "      <th>cc_num</th>\n",
              "      <td>0</td>\n",
              "    </tr>\n",
              "    <tr>\n",
              "      <th>merchant</th>\n",
              "      <td>0</td>\n",
              "    </tr>\n",
              "    <tr>\n",
              "      <th>category</th>\n",
              "      <td>0</td>\n",
              "    </tr>\n",
              "    <tr>\n",
              "      <th>amt</th>\n",
              "      <td>0</td>\n",
              "    </tr>\n",
              "    <tr>\n",
              "      <th>gender</th>\n",
              "      <td>0</td>\n",
              "    </tr>\n",
              "    <tr>\n",
              "      <th>city</th>\n",
              "      <td>0</td>\n",
              "    </tr>\n",
              "    <tr>\n",
              "      <th>state</th>\n",
              "      <td>0</td>\n",
              "    </tr>\n",
              "    <tr>\n",
              "      <th>zip</th>\n",
              "      <td>0</td>\n",
              "    </tr>\n",
              "    <tr>\n",
              "      <th>lat</th>\n",
              "      <td>0</td>\n",
              "    </tr>\n",
              "    <tr>\n",
              "      <th>long</th>\n",
              "      <td>0</td>\n",
              "    </tr>\n",
              "    <tr>\n",
              "      <th>city_pop</th>\n",
              "      <td>0</td>\n",
              "    </tr>\n",
              "    <tr>\n",
              "      <th>job</th>\n",
              "      <td>0</td>\n",
              "    </tr>\n",
              "    <tr>\n",
              "      <th>unix_time</th>\n",
              "      <td>0</td>\n",
              "    </tr>\n",
              "    <tr>\n",
              "      <th>merch_lat</th>\n",
              "      <td>0</td>\n",
              "    </tr>\n",
              "    <tr>\n",
              "      <th>merch_long</th>\n",
              "      <td>0</td>\n",
              "    </tr>\n",
              "    <tr>\n",
              "      <th>is_fraud</th>\n",
              "      <td>0</td>\n",
              "    </tr>\n",
              "    <tr>\n",
              "      <th>merch_zipcode</th>\n",
              "      <td>195973</td>\n",
              "    </tr>\n",
              "  </tbody>\n",
              "</table>\n",
              "</div><br><label><b>dtype:</b> int64</label>"
            ]
          },
          "metadata": {},
          "execution_count": 11
        }
      ]
    },
    {
      "cell_type": "code",
      "execution_count": null,
      "metadata": {
        "id": "Izhf-mibXP0L"
      },
      "outputs": [],
      "source": [
        "data.dropna(subset=['merch_zipcode'], inplace=True)"
      ]
    },
    {
      "cell_type": "code",
      "execution_count": null,
      "metadata": {
        "colab": {
          "base_uri": "https://localhost:8080/"
        },
        "id": "ltaA_tzf2aEA",
        "outputId": "ff1bf836-1354-4867-fa2c-95c3cebdb6be"
      },
      "outputs": [
        {
          "output_type": "execute_result",
          "data": {
            "text/plain": [
              "(1100702, 18)"
            ]
          },
          "metadata": {},
          "execution_count": 13
        }
      ],
      "source": [
        "data.shape"
      ]
    },
    {
      "cell_type": "code",
      "execution_count": null,
      "metadata": {
        "id": "ShidJsgvXskg"
      },
      "outputs": [],
      "source": [
        "from sklearn.preprocessing import StandardScaler\n",
        "\n",
        "scaler = StandardScaler()\n",
        "data[['amt', 'lat', 'long', 'merch_lat', 'merch_long']] = scaler.fit_transform(\n",
        "    data[['amt', 'lat', 'long', 'merch_lat', 'merch_long']]\n",
        ")"
      ]
    },
    {
      "cell_type": "code",
      "execution_count": null,
      "metadata": {
        "colab": {
          "base_uri": "https://localhost:8080/"
        },
        "id": "JWr4XxkHYFSo",
        "outputId": "191afc6e-7fee-4bde-b72b-0ad6167f2dfd"
      },
      "outputs": [
        {
          "output_type": "stream",
          "name": "stdout",
          "text": [
            "             cc_num  merchant  category       amt gender            city  \\\n",
            "0  2703186189652095       514         8 -0.404364      F  Moravian Falls   \n",
            "2    38859492057661       390         0  0.928428      M      Malad City   \n",
            "4   375534208663984       297         9 -0.175211      M        Doe Hill   \n",
            "5  4767265376804500       607         2  0.151080      F          Dublin   \n",
            "7  6011360759745864       107         2  0.008719      M        Edinburg   \n",
            "\n",
            "   state    zip       lat      long  city_pop  job   unix_time  merch_lat  \\\n",
            "0     27  28654 -0.537627  0.620813      3495  370  1325376018  -0.553588   \n",
            "2     13  83252  0.797243 -1.908302      4154  307  1325376051   1.006061   \n",
            "4     45  24433 -0.025314  0.760369        99  116  1325376186   0.028315   \n",
            "5     38  18917  0.402207  1.106850      2158  479  1325376248   0.460505   \n",
            "7     45  22824  0.067111  0.830554      6018  127  1325376308   0.087973   \n",
            "\n",
            "   merch_long  is_fraud  merch_zipcode  \n",
            "0    0.550580         0        28705.0  \n",
            "2   -1.899494         0        83236.0  \n",
            "4    0.828566         0        22844.0  \n",
            "5    1.030374         0        17972.0  \n",
            "7    0.836066         0        22644.0  \n"
          ]
        }
      ],
      "source": [
        "# Drop original 'trans_date_trans_time' and 'unix_time' if not needed\n",
        "data.drop(columns=['trans_date_trans_time'], inplace=True)\n",
        "\n",
        "# Display processed data\n",
        "print(data.head())"
      ]
    },
    {
      "cell_type": "code",
      "execution_count": null,
      "metadata": {
        "colab": {
          "base_uri": "https://localhost:8080/",
          "height": 206
        },
        "id": "HtexDrg1Wb37",
        "outputId": "00c16bad-4509-483c-ab85-cbd6921d5be2"
      },
      "outputs": [
        {
          "output_type": "execute_result",
          "data": {
            "text/plain": [
              "             cc_num  merchant  category       amt gender            city  \\\n",
              "0  2703186189652095       514         8 -0.404364      F  Moravian Falls   \n",
              "2    38859492057661       390         0  0.928428      M      Malad City   \n",
              "4   375534208663984       297         9 -0.175211      M        Doe Hill   \n",
              "5  4767265376804500       607         2  0.151080      F          Dublin   \n",
              "7  6011360759745864       107         2  0.008719      M        Edinburg   \n",
              "\n",
              "   state    zip       lat      long  city_pop  job   unix_time  merch_lat  \\\n",
              "0     27  28654 -0.537627  0.620813      3495  370  1325376018  -0.553588   \n",
              "2     13  83252  0.797243 -1.908302      4154  307  1325376051   1.006061   \n",
              "4     45  24433 -0.025314  0.760369        99  116  1325376186   0.028315   \n",
              "5     38  18917  0.402207  1.106850      2158  479  1325376248   0.460505   \n",
              "7     45  22824  0.067111  0.830554      6018  127  1325376308   0.087973   \n",
              "\n",
              "   merch_long  is_fraud  merch_zipcode  \n",
              "0    0.550580         0        28705.0  \n",
              "2   -1.899494         0        83236.0  \n",
              "4    0.828566         0        22844.0  \n",
              "5    1.030374         0        17972.0  \n",
              "7    0.836066         0        22644.0  "
            ],
            "text/html": [
              "\n",
              "  <div id=\"df-01bca462-65cc-4e63-822a-8405f19ecae1\" class=\"colab-df-container\">\n",
              "    <div>\n",
              "<style scoped>\n",
              "    .dataframe tbody tr th:only-of-type {\n",
              "        vertical-align: middle;\n",
              "    }\n",
              "\n",
              "    .dataframe tbody tr th {\n",
              "        vertical-align: top;\n",
              "    }\n",
              "\n",
              "    .dataframe thead th {\n",
              "        text-align: right;\n",
              "    }\n",
              "</style>\n",
              "<table border=\"1\" class=\"dataframe\">\n",
              "  <thead>\n",
              "    <tr style=\"text-align: right;\">\n",
              "      <th></th>\n",
              "      <th>cc_num</th>\n",
              "      <th>merchant</th>\n",
              "      <th>category</th>\n",
              "      <th>amt</th>\n",
              "      <th>gender</th>\n",
              "      <th>city</th>\n",
              "      <th>state</th>\n",
              "      <th>zip</th>\n",
              "      <th>lat</th>\n",
              "      <th>long</th>\n",
              "      <th>city_pop</th>\n",
              "      <th>job</th>\n",
              "      <th>unix_time</th>\n",
              "      <th>merch_lat</th>\n",
              "      <th>merch_long</th>\n",
              "      <th>is_fraud</th>\n",
              "      <th>merch_zipcode</th>\n",
              "    </tr>\n",
              "  </thead>\n",
              "  <tbody>\n",
              "    <tr>\n",
              "      <th>0</th>\n",
              "      <td>2703186189652095</td>\n",
              "      <td>514</td>\n",
              "      <td>8</td>\n",
              "      <td>-0.404364</td>\n",
              "      <td>F</td>\n",
              "      <td>Moravian Falls</td>\n",
              "      <td>27</td>\n",
              "      <td>28654</td>\n",
              "      <td>-0.537627</td>\n",
              "      <td>0.620813</td>\n",
              "      <td>3495</td>\n",
              "      <td>370</td>\n",
              "      <td>1325376018</td>\n",
              "      <td>-0.553588</td>\n",
              "      <td>0.550580</td>\n",
              "      <td>0</td>\n",
              "      <td>28705.0</td>\n",
              "    </tr>\n",
              "    <tr>\n",
              "      <th>2</th>\n",
              "      <td>38859492057661</td>\n",
              "      <td>390</td>\n",
              "      <td>0</td>\n",
              "      <td>0.928428</td>\n",
              "      <td>M</td>\n",
              "      <td>Malad City</td>\n",
              "      <td>13</td>\n",
              "      <td>83252</td>\n",
              "      <td>0.797243</td>\n",
              "      <td>-1.908302</td>\n",
              "      <td>4154</td>\n",
              "      <td>307</td>\n",
              "      <td>1325376051</td>\n",
              "      <td>1.006061</td>\n",
              "      <td>-1.899494</td>\n",
              "      <td>0</td>\n",
              "      <td>83236.0</td>\n",
              "    </tr>\n",
              "    <tr>\n",
              "      <th>4</th>\n",
              "      <td>375534208663984</td>\n",
              "      <td>297</td>\n",
              "      <td>9</td>\n",
              "      <td>-0.175211</td>\n",
              "      <td>M</td>\n",
              "      <td>Doe Hill</td>\n",
              "      <td>45</td>\n",
              "      <td>24433</td>\n",
              "      <td>-0.025314</td>\n",
              "      <td>0.760369</td>\n",
              "      <td>99</td>\n",
              "      <td>116</td>\n",
              "      <td>1325376186</td>\n",
              "      <td>0.028315</td>\n",
              "      <td>0.828566</td>\n",
              "      <td>0</td>\n",
              "      <td>22844.0</td>\n",
              "    </tr>\n",
              "    <tr>\n",
              "      <th>5</th>\n",
              "      <td>4767265376804500</td>\n",
              "      <td>607</td>\n",
              "      <td>2</td>\n",
              "      <td>0.151080</td>\n",
              "      <td>F</td>\n",
              "      <td>Dublin</td>\n",
              "      <td>38</td>\n",
              "      <td>18917</td>\n",
              "      <td>0.402207</td>\n",
              "      <td>1.106850</td>\n",
              "      <td>2158</td>\n",
              "      <td>479</td>\n",
              "      <td>1325376248</td>\n",
              "      <td>0.460505</td>\n",
              "      <td>1.030374</td>\n",
              "      <td>0</td>\n",
              "      <td>17972.0</td>\n",
              "    </tr>\n",
              "    <tr>\n",
              "      <th>7</th>\n",
              "      <td>6011360759745864</td>\n",
              "      <td>107</td>\n",
              "      <td>2</td>\n",
              "      <td>0.008719</td>\n",
              "      <td>M</td>\n",
              "      <td>Edinburg</td>\n",
              "      <td>45</td>\n",
              "      <td>22824</td>\n",
              "      <td>0.067111</td>\n",
              "      <td>0.830554</td>\n",
              "      <td>6018</td>\n",
              "      <td>127</td>\n",
              "      <td>1325376308</td>\n",
              "      <td>0.087973</td>\n",
              "      <td>0.836066</td>\n",
              "      <td>0</td>\n",
              "      <td>22644.0</td>\n",
              "    </tr>\n",
              "  </tbody>\n",
              "</table>\n",
              "</div>\n",
              "    <div class=\"colab-df-buttons\">\n",
              "\n",
              "  <div class=\"colab-df-container\">\n",
              "    <button class=\"colab-df-convert\" onclick=\"convertToInteractive('df-01bca462-65cc-4e63-822a-8405f19ecae1')\"\n",
              "            title=\"Convert this dataframe to an interactive table.\"\n",
              "            style=\"display:none;\">\n",
              "\n",
              "  <svg xmlns=\"http://www.w3.org/2000/svg\" height=\"24px\" viewBox=\"0 -960 960 960\">\n",
              "    <path d=\"M120-120v-720h720v720H120Zm60-500h600v-160H180v160Zm220 220h160v-160H400v160Zm0 220h160v-160H400v160ZM180-400h160v-160H180v160Zm440 0h160v-160H620v160ZM180-180h160v-160H180v160Zm440 0h160v-160H620v160Z\"/>\n",
              "  </svg>\n",
              "    </button>\n",
              "\n",
              "  <style>\n",
              "    .colab-df-container {\n",
              "      display:flex;\n",
              "      gap: 12px;\n",
              "    }\n",
              "\n",
              "    .colab-df-convert {\n",
              "      background-color: #E8F0FE;\n",
              "      border: none;\n",
              "      border-radius: 50%;\n",
              "      cursor: pointer;\n",
              "      display: none;\n",
              "      fill: #1967D2;\n",
              "      height: 32px;\n",
              "      padding: 0 0 0 0;\n",
              "      width: 32px;\n",
              "    }\n",
              "\n",
              "    .colab-df-convert:hover {\n",
              "      background-color: #E2EBFA;\n",
              "      box-shadow: 0px 1px 2px rgba(60, 64, 67, 0.3), 0px 1px 3px 1px rgba(60, 64, 67, 0.15);\n",
              "      fill: #174EA6;\n",
              "    }\n",
              "\n",
              "    .colab-df-buttons div {\n",
              "      margin-bottom: 4px;\n",
              "    }\n",
              "\n",
              "    [theme=dark] .colab-df-convert {\n",
              "      background-color: #3B4455;\n",
              "      fill: #D2E3FC;\n",
              "    }\n",
              "\n",
              "    [theme=dark] .colab-df-convert:hover {\n",
              "      background-color: #434B5C;\n",
              "      box-shadow: 0px 1px 3px 1px rgba(0, 0, 0, 0.15);\n",
              "      filter: drop-shadow(0px 1px 2px rgba(0, 0, 0, 0.3));\n",
              "      fill: #FFFFFF;\n",
              "    }\n",
              "  </style>\n",
              "\n",
              "    <script>\n",
              "      const buttonEl =\n",
              "        document.querySelector('#df-01bca462-65cc-4e63-822a-8405f19ecae1 button.colab-df-convert');\n",
              "      buttonEl.style.display =\n",
              "        google.colab.kernel.accessAllowed ? 'block' : 'none';\n",
              "\n",
              "      async function convertToInteractive(key) {\n",
              "        const element = document.querySelector('#df-01bca462-65cc-4e63-822a-8405f19ecae1');\n",
              "        const dataTable =\n",
              "          await google.colab.kernel.invokeFunction('convertToInteractive',\n",
              "                                                    [key], {});\n",
              "        if (!dataTable) return;\n",
              "\n",
              "        const docLinkHtml = 'Like what you see? Visit the ' +\n",
              "          '<a target=\"_blank\" href=https://colab.research.google.com/notebooks/data_table.ipynb>data table notebook</a>'\n",
              "          + ' to learn more about interactive tables.';\n",
              "        element.innerHTML = '';\n",
              "        dataTable['output_type'] = 'display_data';\n",
              "        await google.colab.output.renderOutput(dataTable, element);\n",
              "        const docLink = document.createElement('div');\n",
              "        docLink.innerHTML = docLinkHtml;\n",
              "        element.appendChild(docLink);\n",
              "      }\n",
              "    </script>\n",
              "  </div>\n",
              "\n",
              "\n",
              "    <div id=\"df-6246d29f-5e76-4447-b0f0-681d9892a1b9\">\n",
              "      <button class=\"colab-df-quickchart\" onclick=\"quickchart('df-6246d29f-5e76-4447-b0f0-681d9892a1b9')\"\n",
              "                title=\"Suggest charts\"\n",
              "                style=\"display:none;\">\n",
              "\n",
              "<svg xmlns=\"http://www.w3.org/2000/svg\" height=\"24px\"viewBox=\"0 0 24 24\"\n",
              "     width=\"24px\">\n",
              "    <g>\n",
              "        <path d=\"M19 3H5c-1.1 0-2 .9-2 2v14c0 1.1.9 2 2 2h14c1.1 0 2-.9 2-2V5c0-1.1-.9-2-2-2zM9 17H7v-7h2v7zm4 0h-2V7h2v10zm4 0h-2v-4h2v4z\"/>\n",
              "    </g>\n",
              "</svg>\n",
              "      </button>\n",
              "\n",
              "<style>\n",
              "  .colab-df-quickchart {\n",
              "      --bg-color: #E8F0FE;\n",
              "      --fill-color: #1967D2;\n",
              "      --hover-bg-color: #E2EBFA;\n",
              "      --hover-fill-color: #174EA6;\n",
              "      --disabled-fill-color: #AAA;\n",
              "      --disabled-bg-color: #DDD;\n",
              "  }\n",
              "\n",
              "  [theme=dark] .colab-df-quickchart {\n",
              "      --bg-color: #3B4455;\n",
              "      --fill-color: #D2E3FC;\n",
              "      --hover-bg-color: #434B5C;\n",
              "      --hover-fill-color: #FFFFFF;\n",
              "      --disabled-bg-color: #3B4455;\n",
              "      --disabled-fill-color: #666;\n",
              "  }\n",
              "\n",
              "  .colab-df-quickchart {\n",
              "    background-color: var(--bg-color);\n",
              "    border: none;\n",
              "    border-radius: 50%;\n",
              "    cursor: pointer;\n",
              "    display: none;\n",
              "    fill: var(--fill-color);\n",
              "    height: 32px;\n",
              "    padding: 0;\n",
              "    width: 32px;\n",
              "  }\n",
              "\n",
              "  .colab-df-quickchart:hover {\n",
              "    background-color: var(--hover-bg-color);\n",
              "    box-shadow: 0 1px 2px rgba(60, 64, 67, 0.3), 0 1px 3px 1px rgba(60, 64, 67, 0.15);\n",
              "    fill: var(--button-hover-fill-color);\n",
              "  }\n",
              "\n",
              "  .colab-df-quickchart-complete:disabled,\n",
              "  .colab-df-quickchart-complete:disabled:hover {\n",
              "    background-color: var(--disabled-bg-color);\n",
              "    fill: var(--disabled-fill-color);\n",
              "    box-shadow: none;\n",
              "  }\n",
              "\n",
              "  .colab-df-spinner {\n",
              "    border: 2px solid var(--fill-color);\n",
              "    border-color: transparent;\n",
              "    border-bottom-color: var(--fill-color);\n",
              "    animation:\n",
              "      spin 1s steps(1) infinite;\n",
              "  }\n",
              "\n",
              "  @keyframes spin {\n",
              "    0% {\n",
              "      border-color: transparent;\n",
              "      border-bottom-color: var(--fill-color);\n",
              "      border-left-color: var(--fill-color);\n",
              "    }\n",
              "    20% {\n",
              "      border-color: transparent;\n",
              "      border-left-color: var(--fill-color);\n",
              "      border-top-color: var(--fill-color);\n",
              "    }\n",
              "    30% {\n",
              "      border-color: transparent;\n",
              "      border-left-color: var(--fill-color);\n",
              "      border-top-color: var(--fill-color);\n",
              "      border-right-color: var(--fill-color);\n",
              "    }\n",
              "    40% {\n",
              "      border-color: transparent;\n",
              "      border-right-color: var(--fill-color);\n",
              "      border-top-color: var(--fill-color);\n",
              "    }\n",
              "    60% {\n",
              "      border-color: transparent;\n",
              "      border-right-color: var(--fill-color);\n",
              "    }\n",
              "    80% {\n",
              "      border-color: transparent;\n",
              "      border-right-color: var(--fill-color);\n",
              "      border-bottom-color: var(--fill-color);\n",
              "    }\n",
              "    90% {\n",
              "      border-color: transparent;\n",
              "      border-bottom-color: var(--fill-color);\n",
              "    }\n",
              "  }\n",
              "</style>\n",
              "\n",
              "      <script>\n",
              "        async function quickchart(key) {\n",
              "          const quickchartButtonEl =\n",
              "            document.querySelector('#' + key + ' button');\n",
              "          quickchartButtonEl.disabled = true;  // To prevent multiple clicks.\n",
              "          quickchartButtonEl.classList.add('colab-df-spinner');\n",
              "          try {\n",
              "            const charts = await google.colab.kernel.invokeFunction(\n",
              "                'suggestCharts', [key], {});\n",
              "          } catch (error) {\n",
              "            console.error('Error during call to suggestCharts:', error);\n",
              "          }\n",
              "          quickchartButtonEl.classList.remove('colab-df-spinner');\n",
              "          quickchartButtonEl.classList.add('colab-df-quickchart-complete');\n",
              "        }\n",
              "        (() => {\n",
              "          let quickchartButtonEl =\n",
              "            document.querySelector('#df-6246d29f-5e76-4447-b0f0-681d9892a1b9 button');\n",
              "          quickchartButtonEl.style.display =\n",
              "            google.colab.kernel.accessAllowed ? 'block' : 'none';\n",
              "        })();\n",
              "      </script>\n",
              "    </div>\n",
              "\n",
              "    </div>\n",
              "  </div>\n"
            ],
            "application/vnd.google.colaboratory.intrinsic+json": {
              "type": "dataframe",
              "variable_name": "data"
            }
          },
          "metadata": {},
          "execution_count": 16
        }
      ],
      "source": [
        "data.head()"
      ]
    },
    {
      "cell_type": "code",
      "execution_count": null,
      "metadata": {
        "id": "iSsDHpRuT0ky"
      },
      "outputs": [],
      "source": [
        "data['gender'] = data['gender'].map({'M': 0, 'F': 1})"
      ]
    },
    {
      "cell_type": "code",
      "execution_count": null,
      "metadata": {
        "id": "yJykTdZ_T6z3"
      },
      "outputs": [],
      "source": [
        "\n",
        "data['city'] = LabelEncoder().fit_transform(data['city'])"
      ]
    },
    {
      "cell_type": "code",
      "source": [
        "pip install imblearn --q"
      ],
      "metadata": {
        "id": "8dV17Umuxizx"
      },
      "execution_count": null,
      "outputs": []
    },
    {
      "cell_type": "code",
      "execution_count": null,
      "metadata": {
        "id": "wsGrCfKtXPUv"
      },
      "outputs": [],
      "source": [
        "from imblearn.under_sampling import EditedNearestNeighbours\n",
        "\n",
        "X = data.drop(columns=['is_fraud'])\n",
        "y = data['is_fraud']\n",
        "\n",
        "enn = EditedNearestNeighbours()\n",
        "X_resampled, y_resampled = enn.fit_resample(X, y)"
      ]
    },
    {
      "cell_type": "code",
      "execution_count": null,
      "metadata": {
        "id": "TgkiEqMZXxAa"
      },
      "outputs": [],
      "source": [
        "from imblearn.over_sampling import SMOTE\n",
        "\n",
        "smote = SMOTE(sampling_strategy=0.5, random_state=42)\n",
        "X_resampled, y_resampled = smote.fit_resample(X, y)"
      ]
    },
    {
      "cell_type": "code",
      "execution_count": null,
      "metadata": {
        "id": "BsnRq0L9XyoC"
      },
      "outputs": [],
      "source": [
        "from sklearn.model_selection import train_test_split\n",
        "\n",
        "X_train, X_test, y_train, y_test = train_test_split(X_resampled, y_resampled, test_size=0.2, random_state=42)\n"
      ]
    },
    {
      "cell_type": "code",
      "execution_count": null,
      "metadata": {
        "id": "InfayvmPX0eT",
        "colab": {
          "base_uri": "https://localhost:8080/"
        },
        "outputId": "6d534616-ce66-411b-c70c-fc35dc01aebd"
      },
      "outputs": [
        {
          "output_type": "stream",
          "name": "stdout",
          "text": [
            "KNN Classification Report:\n",
            "               precision    recall  f1-score   support\n",
            "\n",
            "           0       1.00      1.00      1.00    218021\n",
            "           1       0.88      0.27      0.42      1252\n",
            "\n",
            "    accuracy                           1.00    219273\n",
            "   macro avg       0.94      0.64      0.71    219273\n",
            "weighted avg       1.00      1.00      0.99    219273\n",
            "\n",
            "KNN Confusion Matrix:\n",
            " [[217974     47]\n",
            " [   909    343]]\n"
          ]
        }
      ],
      "source": [
        "\n",
        "# Step 3: Train and evaluate the KNN classifier\n",
        "knn = KNeighborsClassifier(n_neighbors=5)\n",
        "knn.fit(X_train, y_train)\n",
        "\n",
        "# Predict and evaluate KNN\n",
        "knn_preds = knn.predict(X_test)\n",
        "print(\"KNN Classification Report:\\n\", classification_report(y_test, knn_preds))\n",
        "print(\"KNN Confusion Matrix:\\n\", confusion_matrix(y_test, knn_preds))\n"
      ]
    },
    {
      "cell_type": "code",
      "source": [
        "# Step 4: Build and train the DNN model\n",
        "model = Sequential([\n",
        "    Dense(64, activation='relu', input_dim=X_train.shape[1]),\n",
        "    Dense(32, activation='relu'),\n",
        "    Dense(1, activation='sigmoid')\n",
        "])\n",
        "\n",
        "model.compile(optimizer='adam', loss='binary_crossentropy', metrics=['accuracy'])\n",
        "model.summary()"
      ],
      "metadata": {
        "colab": {
          "base_uri": "https://localhost:8080/",
          "height": 278
        },
        "id": "PMxu6D3ei-oF",
        "outputId": "66aa4632-ed44-4f7e-ba0e-30104f50980f"
      },
      "execution_count": null,
      "outputs": [
        {
          "output_type": "stream",
          "name": "stderr",
          "text": [
            "/usr/local/lib/python3.11/dist-packages/keras/src/layers/core/dense.py:87: UserWarning: Do not pass an `input_shape`/`input_dim` argument to a layer. When using Sequential models, prefer using an `Input(shape)` object as the first layer in the model instead.\n",
            "  super().__init__(activity_regularizer=activity_regularizer, **kwargs)\n"
          ]
        },
        {
          "output_type": "display_data",
          "data": {
            "text/plain": [
              "\u001b[1mModel: \"sequential\"\u001b[0m\n"
            ],
            "text/html": [
              "<pre style=\"white-space:pre;overflow-x:auto;line-height:normal;font-family:Menlo,'DejaVu Sans Mono',consolas,'Courier New',monospace\"><span style=\"font-weight: bold\">Model: \"sequential\"</span>\n",
              "</pre>\n"
            ]
          },
          "metadata": {}
        },
        {
          "output_type": "display_data",
          "data": {
            "text/plain": [
              "┏━━━━━━━━━━━━━━━━━━━━━━━━━━━━━━━━━┳━━━━━━━━━━━━━━━━━━━━━━━━┳━━━━━━━━━━━━━━━┓\n",
              "┃\u001b[1m \u001b[0m\u001b[1mLayer (type)                   \u001b[0m\u001b[1m \u001b[0m┃\u001b[1m \u001b[0m\u001b[1mOutput Shape          \u001b[0m\u001b[1m \u001b[0m┃\u001b[1m \u001b[0m\u001b[1m      Param #\u001b[0m\u001b[1m \u001b[0m┃\n",
              "┡━━━━━━━━━━━━━━━━━━━━━━━━━━━━━━━━━╇━━━━━━━━━━━━━━━━━━━━━━━━╇━━━━━━━━━━━━━━━┩\n",
              "│ dense (\u001b[38;5;33mDense\u001b[0m)                   │ (\u001b[38;5;45mNone\u001b[0m, \u001b[38;5;34m64\u001b[0m)             │         \u001b[38;5;34m1,088\u001b[0m │\n",
              "├─────────────────────────────────┼────────────────────────┼───────────────┤\n",
              "│ dense_1 (\u001b[38;5;33mDense\u001b[0m)                 │ (\u001b[38;5;45mNone\u001b[0m, \u001b[38;5;34m32\u001b[0m)             │         \u001b[38;5;34m2,080\u001b[0m │\n",
              "├─────────────────────────────────┼────────────────────────┼───────────────┤\n",
              "│ dense_2 (\u001b[38;5;33mDense\u001b[0m)                 │ (\u001b[38;5;45mNone\u001b[0m, \u001b[38;5;34m1\u001b[0m)              │            \u001b[38;5;34m33\u001b[0m │\n",
              "└─────────────────────────────────┴────────────────────────┴───────────────┘\n"
            ],
            "text/html": [
              "<pre style=\"white-space:pre;overflow-x:auto;line-height:normal;font-family:Menlo,'DejaVu Sans Mono',consolas,'Courier New',monospace\">┏━━━━━━━━━━━━━━━━━━━━━━━━━━━━━━━━━┳━━━━━━━━━━━━━━━━━━━━━━━━┳━━━━━━━━━━━━━━━┓\n",
              "┃<span style=\"font-weight: bold\"> Layer (type)                    </span>┃<span style=\"font-weight: bold\"> Output Shape           </span>┃<span style=\"font-weight: bold\">       Param # </span>┃\n",
              "┡━━━━━━━━━━━━━━━━━━━━━━━━━━━━━━━━━╇━━━━━━━━━━━━━━━━━━━━━━━━╇━━━━━━━━━━━━━━━┩\n",
              "│ dense (<span style=\"color: #0087ff; text-decoration-color: #0087ff\">Dense</span>)                   │ (<span style=\"color: #00d7ff; text-decoration-color: #00d7ff\">None</span>, <span style=\"color: #00af00; text-decoration-color: #00af00\">64</span>)             │         <span style=\"color: #00af00; text-decoration-color: #00af00\">1,088</span> │\n",
              "├─────────────────────────────────┼────────────────────────┼───────────────┤\n",
              "│ dense_1 (<span style=\"color: #0087ff; text-decoration-color: #0087ff\">Dense</span>)                 │ (<span style=\"color: #00d7ff; text-decoration-color: #00d7ff\">None</span>, <span style=\"color: #00af00; text-decoration-color: #00af00\">32</span>)             │         <span style=\"color: #00af00; text-decoration-color: #00af00\">2,080</span> │\n",
              "├─────────────────────────────────┼────────────────────────┼───────────────┤\n",
              "│ dense_2 (<span style=\"color: #0087ff; text-decoration-color: #0087ff\">Dense</span>)                 │ (<span style=\"color: #00d7ff; text-decoration-color: #00d7ff\">None</span>, <span style=\"color: #00af00; text-decoration-color: #00af00\">1</span>)              │            <span style=\"color: #00af00; text-decoration-color: #00af00\">33</span> │\n",
              "└─────────────────────────────────┴────────────────────────┴───────────────┘\n",
              "</pre>\n"
            ]
          },
          "metadata": {}
        },
        {
          "output_type": "display_data",
          "data": {
            "text/plain": [
              "\u001b[1m Total params: \u001b[0m\u001b[38;5;34m3,201\u001b[0m (12.50 KB)\n"
            ],
            "text/html": [
              "<pre style=\"white-space:pre;overflow-x:auto;line-height:normal;font-family:Menlo,'DejaVu Sans Mono',consolas,'Courier New',monospace\"><span style=\"font-weight: bold\"> Total params: </span><span style=\"color: #00af00; text-decoration-color: #00af00\">3,201</span> (12.50 KB)\n",
              "</pre>\n"
            ]
          },
          "metadata": {}
        },
        {
          "output_type": "display_data",
          "data": {
            "text/plain": [
              "\u001b[1m Trainable params: \u001b[0m\u001b[38;5;34m3,201\u001b[0m (12.50 KB)\n"
            ],
            "text/html": [
              "<pre style=\"white-space:pre;overflow-x:auto;line-height:normal;font-family:Menlo,'DejaVu Sans Mono',consolas,'Courier New',monospace\"><span style=\"font-weight: bold\"> Trainable params: </span><span style=\"color: #00af00; text-decoration-color: #00af00\">3,201</span> (12.50 KB)\n",
              "</pre>\n"
            ]
          },
          "metadata": {}
        },
        {
          "output_type": "display_data",
          "data": {
            "text/plain": [
              "\u001b[1m Non-trainable params: \u001b[0m\u001b[38;5;34m0\u001b[0m (0.00 B)\n"
            ],
            "text/html": [
              "<pre style=\"white-space:pre;overflow-x:auto;line-height:normal;font-family:Menlo,'DejaVu Sans Mono',consolas,'Courier New',monospace\"><span style=\"font-weight: bold\"> Non-trainable params: </span><span style=\"color: #00af00; text-decoration-color: #00af00\">0</span> (0.00 B)\n",
              "</pre>\n"
            ]
          },
          "metadata": {}
        }
      ]
    },
    {
      "cell_type": "code",
      "execution_count": null,
      "metadata": {
        "id": "EAN3QPEMX2bF",
        "colab": {
          "base_uri": "https://localhost:8080/",
          "height": 1000
        },
        "outputId": "8888d4e0-67d7-4e8d-c216-b8b3d8c1851f"
      },
      "outputs": [
        {
          "output_type": "stream",
          "name": "stdout",
          "text": [
            "Epoch 1/30\n",
            "\u001b[1m54819/54819\u001b[0m \u001b[32m━━━━━━━━━━━━━━━━━━━━\u001b[0m\u001b[37m\u001b[0m \u001b[1m125s\u001b[0m 2ms/step - accuracy: 0.9892 - loss: 69507301244928.0000 - val_accuracy: 0.9943 - val_loss: 0.0352\n",
            "Epoch 2/30\n",
            "\u001b[1m54819/54819\u001b[0m \u001b[32m━━━━━━━━━━━━━━━━━━━━\u001b[0m\u001b[37m\u001b[0m \u001b[1m143s\u001b[0m 2ms/step - accuracy: 0.9943 - loss: 0.0354 - val_accuracy: 0.9943 - val_loss: 0.0352\n",
            "Epoch 3/30\n",
            "\u001b[1m54819/54819\u001b[0m \u001b[32m━━━━━━━━━━━━━━━━━━━━\u001b[0m\u001b[37m\u001b[0m \u001b[1m124s\u001b[0m 2ms/step - accuracy: 0.9942 - loss: 0.0359 - val_accuracy: 0.9943 - val_loss: 0.0352\n",
            "Epoch 4/30\n",
            "\u001b[1m54819/54819\u001b[0m \u001b[32m━━━━━━━━━━━━━━━━━━━━\u001b[0m\u001b[37m\u001b[0m \u001b[1m124s\u001b[0m 2ms/step - accuracy: 0.9943 - loss: 0.0351 - val_accuracy: 0.9943 - val_loss: 0.0352\n",
            "Epoch 5/30\n",
            "\u001b[1m54819/54819\u001b[0m \u001b[32m━━━━━━━━━━━━━━━━━━━━\u001b[0m\u001b[37m\u001b[0m \u001b[1m146s\u001b[0m 3ms/step - accuracy: 0.9942 - loss: 0.0357 - val_accuracy: 0.9943 - val_loss: 0.0352\n",
            "Epoch 6/30\n",
            "\u001b[1m54819/54819\u001b[0m \u001b[32m━━━━━━━━━━━━━━━━━━━━\u001b[0m\u001b[37m\u001b[0m \u001b[1m126s\u001b[0m 2ms/step - accuracy: 0.9942 - loss: 0.0359 - val_accuracy: 0.9943 - val_loss: 0.0352\n",
            "Epoch 7/30\n",
            "\u001b[1m54819/54819\u001b[0m \u001b[32m━━━━━━━━━━━━━━━━━━━━\u001b[0m\u001b[37m\u001b[0m \u001b[1m140s\u001b[0m 2ms/step - accuracy: 0.9941 - loss: 0.0361 - val_accuracy: 0.9943 - val_loss: 0.0352\n",
            "Epoch 8/30\n",
            "\u001b[1m54819/54819\u001b[0m \u001b[32m━━━━━━━━━━━━━━━━━━━━\u001b[0m\u001b[37m\u001b[0m \u001b[1m142s\u001b[0m 2ms/step - accuracy: 0.9941 - loss: 0.0361 - val_accuracy: 0.9943 - val_loss: 0.0352\n",
            "Epoch 9/30\n",
            "\u001b[1m54819/54819\u001b[0m \u001b[32m━━━━━━━━━━━━━━━━━━━━\u001b[0m\u001b[37m\u001b[0m \u001b[1m144s\u001b[0m 2ms/step - accuracy: 0.9943 - loss: 0.0351 - val_accuracy: 0.9943 - val_loss: 0.0352\n",
            "Epoch 10/30\n",
            "\u001b[1m54819/54819\u001b[0m \u001b[32m━━━━━━━━━━━━━━━━━━━━\u001b[0m\u001b[37m\u001b[0m \u001b[1m126s\u001b[0m 2ms/step - accuracy: 0.9941 - loss: 0.0360 - val_accuracy: 0.9943 - val_loss: 0.0352\n",
            "Epoch 11/30\n",
            "\u001b[1m54819/54819\u001b[0m \u001b[32m━━━━━━━━━━━━━━━━━━━━\u001b[0m\u001b[37m\u001b[0m \u001b[1m125s\u001b[0m 2ms/step - accuracy: 0.9941 - loss: 0.0361 - val_accuracy: 0.9943 - val_loss: 0.0352\n",
            "Epoch 12/30\n",
            "\u001b[1m54819/54819\u001b[0m \u001b[32m━━━━━━━━━━━━━━━━━━━━\u001b[0m\u001b[37m\u001b[0m \u001b[1m161s\u001b[0m 3ms/step - accuracy: 0.9941 - loss: 0.0363 - val_accuracy: 0.9943 - val_loss: 0.0352\n",
            "Epoch 13/30\n",
            "\u001b[1m54819/54819\u001b[0m \u001b[32m━━━━━━━━━━━━━━━━━━━━\u001b[0m\u001b[37m\u001b[0m \u001b[1m124s\u001b[0m 2ms/step - accuracy: 0.9942 - loss: 0.0357 - val_accuracy: 0.9943 - val_loss: 0.0352\n",
            "Epoch 14/30\n",
            "\u001b[1m54819/54819\u001b[0m \u001b[32m━━━━━━━━━━━━━━━━━━━━\u001b[0m\u001b[37m\u001b[0m \u001b[1m142s\u001b[0m 2ms/step - accuracy: 0.9943 - loss: 0.0354 - val_accuracy: 0.9943 - val_loss: 0.0352\n",
            "Epoch 15/30\n",
            "\u001b[1m54819/54819\u001b[0m \u001b[32m━━━━━━━━━━━━━━━━━━━━\u001b[0m\u001b[37m\u001b[0m \u001b[1m142s\u001b[0m 2ms/step - accuracy: 0.9941 - loss: 0.0360 - val_accuracy: 0.9943 - val_loss: 0.0353\n",
            "Epoch 16/30\n",
            "\u001b[1m54819/54819\u001b[0m \u001b[32m━━━━━━━━━━━━━━━━━━━━\u001b[0m\u001b[37m\u001b[0m \u001b[1m124s\u001b[0m 2ms/step - accuracy: 0.9942 - loss: 0.0358 - val_accuracy: 0.9943 - val_loss: 0.0352\n",
            "Epoch 17/30\n",
            "\u001b[1m54819/54819\u001b[0m \u001b[32m━━━━━━━━━━━━━━━━━━━━\u001b[0m\u001b[37m\u001b[0m \u001b[1m125s\u001b[0m 2ms/step - accuracy: 0.9941 - loss: 0.0361 - val_accuracy: 0.9943 - val_loss: 0.0354\n",
            "Epoch 18/30\n",
            "\u001b[1m54819/54819\u001b[0m \u001b[32m━━━━━━━━━━━━━━━━━━━━\u001b[0m\u001b[37m\u001b[0m \u001b[1m142s\u001b[0m 2ms/step - accuracy: 0.9942 - loss: 0.0356 - val_accuracy: 0.9943 - val_loss: 0.0352\n",
            "Epoch 19/30\n",
            "\u001b[1m54819/54819\u001b[0m \u001b[32m━━━━━━━━━━━━━━━━━━━━\u001b[0m\u001b[37m\u001b[0m \u001b[1m141s\u001b[0m 2ms/step - accuracy: 0.9941 - loss: 0.0364 - val_accuracy: 0.9943 - val_loss: 0.0352\n",
            "Epoch 20/30\n",
            "\u001b[1m54819/54819\u001b[0m \u001b[32m━━━━━━━━━━━━━━━━━━━━\u001b[0m\u001b[37m\u001b[0m \u001b[1m143s\u001b[0m 2ms/step - accuracy: 0.9943 - loss: 0.0353 - val_accuracy: 0.9943 - val_loss: 0.0352\n",
            "Epoch 21/30\n",
            "\u001b[1m54819/54819\u001b[0m \u001b[32m━━━━━━━━━━━━━━━━━━━━\u001b[0m\u001b[37m\u001b[0m \u001b[1m126s\u001b[0m 2ms/step - accuracy: 0.9942 - loss: 0.0354 - val_accuracy: 0.9943 - val_loss: 0.0352\n",
            "Epoch 22/30\n",
            "\u001b[1m54819/54819\u001b[0m \u001b[32m━━━━━━━━━━━━━━━━━━━━\u001b[0m\u001b[37m\u001b[0m \u001b[1m141s\u001b[0m 2ms/step - accuracy: 0.9942 - loss: 0.0355 - val_accuracy: 0.9943 - val_loss: 0.0352\n",
            "Epoch 23/30\n",
            "\u001b[1m54819/54819\u001b[0m \u001b[32m━━━━━━━━━━━━━━━━━━━━\u001b[0m\u001b[37m\u001b[0m \u001b[1m125s\u001b[0m 2ms/step - accuracy: 0.9942 - loss: 0.0359 - val_accuracy: 0.9943 - val_loss: 0.0352\n",
            "Epoch 24/30\n",
            "\u001b[1m54819/54819\u001b[0m \u001b[32m━━━━━━━━━━━━━━━━━━━━\u001b[0m\u001b[37m\u001b[0m \u001b[1m126s\u001b[0m 2ms/step - accuracy: 0.9942 - loss: 0.0357 - val_accuracy: 0.9943 - val_loss: 0.0353\n",
            "Epoch 25/30\n",
            "\u001b[1m54819/54819\u001b[0m \u001b[32m━━━━━━━━━━━━━━━━━━━━\u001b[0m\u001b[37m\u001b[0m \u001b[1m162s\u001b[0m 3ms/step - accuracy: 0.9943 - loss: 0.0354 - val_accuracy: 0.9943 - val_loss: 0.0352\n",
            "Epoch 26/30\n",
            "\u001b[1m54819/54819\u001b[0m \u001b[32m━━━━━━━━━━━━━━━━━━━━\u001b[0m\u001b[37m\u001b[0m \u001b[1m127s\u001b[0m 2ms/step - accuracy: 0.9941 - loss: 0.0361 - val_accuracy: 0.9943 - val_loss: 0.0353\n",
            "Epoch 27/30\n",
            "\u001b[1m54819/54819\u001b[0m \u001b[32m━━━━━━━━━━━━━━━━━━━━\u001b[0m\u001b[37m\u001b[0m \u001b[1m126s\u001b[0m 2ms/step - accuracy: 0.9941 - loss: 0.0360 - val_accuracy: 0.9943 - val_loss: 0.0354\n",
            "Epoch 28/30\n",
            "\u001b[1m54819/54819\u001b[0m \u001b[32m━━━━━━━━━━━━━━━━━━━━\u001b[0m\u001b[37m\u001b[0m \u001b[1m127s\u001b[0m 2ms/step - accuracy: 0.9942 - loss: 0.0359 - val_accuracy: 0.9943 - val_loss: 0.0352\n",
            "Epoch 29/30\n",
            "\u001b[1m54819/54819\u001b[0m \u001b[32m━━━━━━━━━━━━━━━━━━━━\u001b[0m\u001b[37m\u001b[0m \u001b[1m140s\u001b[0m 2ms/step - accuracy: 0.9944 - loss: 0.0348 - val_accuracy: 0.9943 - val_loss: 0.0352\n",
            "Epoch 30/30\n",
            "\u001b[1m54819/54819\u001b[0m \u001b[32m━━━━━━━━━━━━━━━━━━━━\u001b[0m\u001b[37m\u001b[0m \u001b[1m125s\u001b[0m 2ms/step - accuracy: 0.9943 - loss: 0.0350 - val_accuracy: 0.9943 - val_loss: 0.0352\n",
            "\u001b[1m6853/6853\u001b[0m \u001b[32m━━━━━━━━━━━━━━━━━━━━\u001b[0m\u001b[37m\u001b[0m \u001b[1m7s\u001b[0m 998us/step\n"
          ]
        },
        {
          "output_type": "stream",
          "name": "stderr",
          "text": [
            "/usr/local/lib/python3.11/dist-packages/sklearn/metrics/_classification.py:1565: UndefinedMetricWarning: Precision is ill-defined and being set to 0.0 in labels with no predicted samples. Use `zero_division` parameter to control this behavior.\n",
            "  _warn_prf(average, modifier, f\"{metric.capitalize()} is\", len(result))\n",
            "/usr/local/lib/python3.11/dist-packages/sklearn/metrics/_classification.py:1565: UndefinedMetricWarning: Precision is ill-defined and being set to 0.0 in labels with no predicted samples. Use `zero_division` parameter to control this behavior.\n",
            "  _warn_prf(average, modifier, f\"{metric.capitalize()} is\", len(result))\n",
            "/usr/local/lib/python3.11/dist-packages/sklearn/metrics/_classification.py:1565: UndefinedMetricWarning: Precision is ill-defined and being set to 0.0 in labels with no predicted samples. Use `zero_division` parameter to control this behavior.\n",
            "  _warn_prf(average, modifier, f\"{metric.capitalize()} is\", len(result))\n"
          ]
        },
        {
          "output_type": "stream",
          "name": "stdout",
          "text": [
            "DNN Classification Report:\n",
            "               precision    recall  f1-score   support\n",
            "\n",
            "           0       0.99      1.00      1.00    218021\n",
            "           1       0.00      0.00      0.00      1252\n",
            "\n",
            "    accuracy                           0.99    219273\n",
            "   macro avg       0.50      0.50      0.50    219273\n",
            "weighted avg       0.99      0.99      0.99    219273\n",
            "\n",
            "DNN Confusion Matrix:\n",
            " [[218021      0]\n",
            " [  1252      0]]\n",
            "\u001b[1m6853/6853\u001b[0m \u001b[32m━━━━━━━━━━━━━━━━━━━━\u001b[0m\u001b[37m\u001b[0m \u001b[1m7s\u001b[0m 1ms/step\n"
          ]
        },
        {
          "output_type": "display_data",
          "data": {
            "text/plain": [
              "<Figure size 1000x600 with 1 Axes>"
            ],
            "image/png": "[encoded data removed]"
          },
          "metadata": {}
        }
      ],
      "source": [
        "\n",
        "# Train the model\n",
        "history = model.fit(\n",
        "    X_train, y_train, validation_data=(X_test, y_test),\n",
        "    epochs=30, batch_size=16, verbose=1, shuffle=True\n",
        ")\n",
        "\n",
        "# Evaluate the model\n",
        "dnn_preds = (model.predict(X_test) > 0.5).astype(int)\n",
        "print(\"DNN Classification Report:\\n\", classification_report(y_test, dnn_preds))\n",
        "print(\"DNN Confusion Matrix:\\n\", confusion_matrix(y_test, dnn_preds))\n",
        "\n",
        "# Plot ROC curves for both models\n",
        "import matplotlib.pyplot as plt\n",
        "\n",
        "knn_fpr, knn_tpr, _ = roc_curve(y_test, knn.predict_proba(X_test)[:, 1])\n",
        "dnn_fpr, dnn_tpr, _ = roc_curve(y_test, model.predict(X_test))\n",
        "\n",
        "plt.figure(figsize=(10, 6))\n",
        "plt.plot(knn_fpr, knn_tpr, label=f'KNN (AUC = {auc(knn_fpr, knn_tpr):.2f})')\n",
        "plt.plot(dnn_fpr, dnn_tpr, label=f'DNN (AUC = {auc(dnn_fpr, dnn_tpr):.2f})')\n",
        "plt.xlabel('False Positive Rate')\n",
        "plt.ylabel('True Positive Rate')\n",
        "plt.title('ROC Curve')\n",
        "plt.legend()\n",
        "plt.show()\n"
      ]
    },
    {
      "cell_type": "code",
      "execution_count": null,
      "metadata": {
        "id": "wZQLm-dJYCq_",
        "colab": {
          "base_uri": "https://localhost:8080/",
          "height": 441
        },
        "outputId": "2999c847-3e29-4225-a9c1-7cd3c8ba9506"
      },
      "outputs": [
        {
          "output_type": "display_data",
          "data": {
            "text/plain": [
              "<Figure size 1200x500 with 4 Axes>"
            ],
            "image/png": "[encoded data removed]"
          },
          "metadata": {}
        }
      ],
      "source": [
        "from sklearn.metrics import confusion_matrix, ConfusionMatrixDisplay\n",
        "import matplotlib.pyplot as plt\n",
        "\n",
        "# Compute confusion matrices\n",
        "knn_cm = confusion_matrix(y_test, knn_preds)\n",
        "dnn_cm = confusion_matrix(y_test, dnn_preds)\n",
        "\n",
        "# Plot confusion matrices\n",
        "fig, axes = plt.subplots(1, 2, figsize=(12, 5))\n",
        "\n",
        "# KNN Confusion Matrix\n",
        "ConfusionMatrixDisplay(knn_cm).plot(ax=axes[0], cmap='Blues')\n",
        "axes[0].set_title('KNN Confusion Matrix')\n",
        "\n",
        "# DNN Confusion Matrix\n",
        "ConfusionMatrixDisplay(dnn_cm).plot(ax=axes[1], cmap='Blues')\n",
        "axes[1].set_title('DNN Confusion Matrix')\n",
        "\n",
        "plt.show()"
      ]
    },
    {
      "cell_type": "code",
      "source": [],
      "metadata": {
        "id": "ibiwStgctZrd"
      },
      "execution_count": null,
      "outputs": []
    }
  ],
  "metadata": {
    "colab": {
      "provenance": [],
      "gpuType": "V28"
    },
    "kernelspec": {
      "display_name": "Python 3",
      "name": "python3"
    },
    "language_info": {
      "name": "python"
    },
    "accelerator": "TPU"
  },
  "nbformat": 4,
  "nbformat_minor": 0
}